{
 "cells": [
  {
   "cell_type": "code",
   "execution_count": 11,
   "id": "8f9437cf-4a85-4bc4-a06d-1bb9b979798b",
   "metadata": {},
   "outputs": [
    {
     "name": "stdout",
     "output_type": "stream",
     "text": [
      "3\n",
      "[15 18 21 24 27]\n"
     ]
    }
   ],
   "source": [
    "#1.Abbiamo una lista di liste:  Che tipo di struttura dati o matematica potrebbe rappresentare? \n",
    "#Notare che tutte le liste \"interne\" sono della stessa dimensione Come facciamo per accedere ad un elemento in particolare?\n",
    "\n",
    "#essendo una lista e con tutti i dati uguali all'interno, questa lista potrebbe rappresentare piu' vettori\n",
    "#attraverso l'indice di un vettore specifico riesco a risalire ad un elemento\n",
    "mat = [[0, 1, 2, 3, 4], [5, 6, 7, 8, 9], [10, 11, 12, 13, 14]]\n",
    "import numpy as np\n",
    "array1 = np.array(mat[0])\n",
    "array2 = np.array(mat[1])\n",
    "array3 = np.array(mat[2])\n",
    "\n",
    "\n",
    "print(array1[3])\n",
    "print(array1+array2+array3)"
   ]
  },
  {
   "cell_type": "code",
   "execution_count": 13,
   "id": "62846ef1-6a05-4612-ac29-2c7a47003155",
   "metadata": {},
   "outputs": [
    {
     "name": "stdout",
     "output_type": "stream",
     "text": [
      "Il seno di 0.4014257279586958 è 0.39073112848927377\n",
      "\n",
      "Il coseno di 0.4014257279586958 è 0.9205048534524404\n",
      "\n",
      "Il fattoriale di 23 è 25852016738884976640000\n",
      "\n",
      "Il pi_greco è 3.141592653589793\n"
     ]
    }
   ],
   "source": [
    "#2.Importiamo il modulo math e proviamo a usare le funzioni .sin() .cos() .factorial() e la variabile .pi la riconoscete?\n",
    "\n",
    "import math \n",
    "numero = 23 \n",
    "\n",
    "numero_radianti = math.radians(numero)     #ho convertito il numero in radianti \n",
    "\n",
    "seno = math.sin(numero_radianti)\n",
    "coseno= math.cos(numero_radianti)\n",
    "fattoriale = math.factorial(numero)\n",
    "pi = math.pi                               #non vuole parentesi \n",
    "\n",
    "print(f\"Il seno di {numero_radianti} è {seno}\\n\")\n",
    "print(f\"Il coseno di {numero_radianti} è {coseno}\\n\")\n",
    "print(f\"Il fattoriale di {numero} è {fattoriale}\\n\")\n",
    "print(f\"Il pi_greco è {pi}\")"
   ]
  },
  {
   "cell_type": "code",
   "execution_count": 15,
   "id": "9fa036cf-fff5-4763-a267-34dd8368d6b5",
   "metadata": {},
   "outputs": [
    {
     "name": "stdout",
     "output_type": "stream",
     "text": [
      "Help on built-in function degrees in module math:\n",
      "\n",
      "degrees(x, /)\n",
      "    Convert angle x from radians to degrees.\n",
      "\n"
     ]
    },
    {
     "data": {
      "text/plain": [
       "180.0"
      ]
     },
     "execution_count": 15,
     "metadata": {},
     "output_type": "execute_result"
    }
   ],
   "source": [
    "#3.Proviamo a eseguire math.degrees(math.pi) Qual è e cosa significa il risultato? \n",
    "#Per saperne di più su questa funzione possiamo usare help(math.degrees)\n",
    "\n",
    "help(math.degrees)\n",
    "\n",
    "math.degrees(math.pi)              #mi restituisce il pi_greco in gradi "
   ]
  },
  {
   "cell_type": "code",
   "execution_count": 19,
   "id": "072b10ba-198a-4f41-a7d4-ebed893000e0",
   "metadata": {},
   "outputs": [
    {
     "name": "stdout",
     "output_type": "stream",
     "text": [
      "La vendita massima mensile è 8150\n",
      "La vendita minima mensile è 1280\n",
      "Le vendite mensili maggiori di 4999 oggetti sono: [5500 7200 6410 8150 7100 5350] \n",
      "Le vendite superiori a 4999 sono 6\n",
      "Le vendite mensili minori di 3000 oggetti sono: [2000 1280 1900 2500]\n",
      "La media dei prodotti venduti al mese è: 4634.17\n"
     ]
    }
   ],
   "source": [
    "#4.L'azienda Object SpA ha creato una lista di quanti oggetti ha venduto ogni mese nell'ultimo anno\n",
    "#trasformiamola in un array  e rispondiamo alle domande del CEO della Object SpA: \n",
    "# qual è stata la vendita massima mensile? E quella minima? • quali sono le vendite mensili maggiori di 4999 oggetti? \n",
    "#E quante ne sono? • quali sono le vendite minori di 3000 oggetti?\n",
    "#• in media quanti oggetti sono stati venduti al mese?\n",
    "\n",
    "lst = [2000, 5500, 7200, 4320, 1280, 1900, 2500, 3900, 6410, 8150, 7100, 5350]\n",
    "\n",
    "lst = np.array(lst)                            #casting : trasformo la lista in array \n",
    "Vendita_max = lst.max()\n",
    "Vendita_min = lst.min()\n",
    "Vendita_max_4999 = lst > 4999\n",
    "Vendita_min_3000 = lst <3000\n",
    "Vendita_media = round(lst.mean(),2)             #arrotondiamo a 2 numeri dopo la virgola\n",
    "\n",
    "\n",
    "\n",
    "\n",
    "print(f\"La vendita massima mensile è {Vendita_max}\")\n",
    "print(f\"La vendita minima mensile è {Vendita_min}\")\n",
    "print(f\"Le vendite mensili maggiori di 4999 oggetti sono: {lst[Vendita_max_4999]} \")   #devo mettere lst[] perchè voglio vedre i valori e non T true o false\n",
    "print(f\"Le vendite superiori a 4999 sono {np.sum(Vendita_max_4999)}\")       #somma tutte le condizioni vere per avere il conteggio \n",
    "print(f\"Le vendite mensili minori di 3000 oggetti sono: {lst[Vendita_min_3000]}\")\n",
    "print(f\"La media dei prodotti venduti al mese è: {Vendita_media}\")\n",
    "\n",
    "\n",
    "\n",
    "\n"
   ]
  },
  {
   "cell_type": "code",
   "execution_count": 14,
   "id": "6161d257-2233-449e-97f1-d624319d4c6c",
   "metadata": {},
   "outputs": [
    {
     "name": "stdout",
     "output_type": "stream",
     "text": [
      "{1997: 12000, 1998: 15000, 1999: 20000, 2000: 23000, 2001: 25000, 2002: 17000, 2003: 14000, 2004: 21000}\n",
      "1997    12000\n",
      "1998    15000\n",
      "1999    20000\n",
      "2000    23000\n",
      "2001    25000\n",
      "2002    17000\n",
      "2003    14000\n",
      "2004    21000\n",
      "dtype: int64\n"
     ]
    }
   ],
   "source": [
    "#5.Consideriamo il seguente dizionario: Consideriamo ora la seguente Series : Possiamo accedere alle stesse informazioni nello stesso modo:\n",
    "#Dunque qual è la differenza tra i due tipi di dato?\n",
    "#Cosa potremmo fare con la Series che non possiamo fare con il dizionario?\n",
    "\n",
    "#la differenza prinicpale è che fatturati_dict è un dizionario quindi con coppia chiave-valore\n",
    "#mentre fatturato è una series quindi come se fosse solo una colonna ma in questo caso con un indice\n",
    "\n",
    "import pandas as pd\n",
    "fatturati_dict = {1997: 12_000, 1998: 15_000, 1999: 20_000, 2000: 23_000, 2001: 25_000, 2002: 17_000, 2003: 14_000, 2004: 21_000}\n",
    "fatturati_series = pd.Series([12_000, 15_000, 20_000, 23_000, 25_000, 17_000, 14_000, 21_000], index=range(1997, 2005))  \n",
    "\n",
    "fatturati_dict[1997] \n",
    "fatturati_series[1997]\n",
    "\n",
    "\n",
    "print(fatturati_dict)\n",
    "print(fatturati_series)\n",
    "\n",
    "\n",
    "\n",
    "\n"
   ]
  },
  {
   "cell_type": "code",
   "execution_count": 128,
   "id": "2d80169a-55e4-4ecf-a01e-ed3202dd4210",
   "metadata": {},
   "outputs": [
    {
     "name": "stdout",
     "output_type": "stream",
     "text": [
      "Complimenti per il vostro lavoro, i nuovi stipendi sono: [200, 400, 600, 800, 1000, 1200, 1400, 1600, 1800, 2000]\n",
      "Complimenti per il vostro lavoro, i nuovi stipendi sono: [200, 400, 600, 800, 1000, 1200, 1400, 1600, 1800, 2000]\n",
      "Complimenti per il vostro lavoro, i nuovi stipendi sono: [ 200  400  600  800 1000 1200 1400 1600 1800 2000]\n"
     ]
    }
   ],
   "source": [
    "#6.L'azienda Object SpA ha un dataset con tutti gli stipendi dei dipendenti, memorizzato in un ndarray:\n",
    "#L'azienda ci chiede di raddoppiare tutti gli stipendi; facciamolo in due modi: • con un ciclo for • con il masking\n",
    "\n",
    "stipendi = np.array( [100, 200, 300, 400, 500,  600, 700, 800, 900, 1000] ) \n",
    "\n",
    "stipendi_raddoppiati= []                                              #ciclo for\n",
    "for stipendio in stipendi :\n",
    "    stipendio_raddoppiato=stipendio*2\n",
    "    stipendi_raddoppiati.append(stipendio_raddoppiato)\n",
    "print(\"Complimenti per il vostro lavoro, i nuovi stipendi sono:\",stipendi_raddoppiati)\n",
    "\n",
    "stipendi_raddoppiati_new = [stipendio*2 for stipendio in stipendi]    #ciclo for con comprehension\n",
    "print(\"Complimenti per il vostro lavoro, i nuovi stipendi sono:\",stipendi_raddoppiati_new)\n",
    "\n",
    "stipendio_new = stipendi*2                                                 #masking\n",
    "print(\"Complimenti per il vostro lavoro, i nuovi stipendi sono:\",stipendio_new)\n"
   ]
  },
  {
   "cell_type": "code",
   "execution_count": null,
   "id": "9610c622-2398-42d9-941f-23211e29b414",
   "metadata": {},
   "outputs": [],
   "source": []
  }
 ],
 "metadata": {
  "kernelspec": {
   "display_name": "Python [conda env:base] *",
   "language": "python",
   "name": "conda-base-py"
  },
  "language_info": {
   "codemirror_mode": {
    "name": "ipython",
    "version": 3
   },
   "file_extension": ".py",
   "mimetype": "text/x-python",
   "name": "python",
   "nbconvert_exporter": "python",
   "pygments_lexer": "ipython3",
   "version": "3.12.7"
  }
 },
 "nbformat": 4,
 "nbformat_minor": 5
}
